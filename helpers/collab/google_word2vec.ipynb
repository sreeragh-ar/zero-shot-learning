{
  "nbformat": 4,
  "nbformat_minor": 0,
  "metadata": {
    "colab": {
      "name": "google_word2vec.ipynb",
      "provenance": [],
      "collapsed_sections": [],
      "toc_visible": true,
      "include_colab_link": true
    },
    "kernelspec": {
      "name": "python3",
      "display_name": "Python 3"
    }
  },
  "cells": [
    {
      "cell_type": "markdown",
      "metadata": {
        "id": "view-in-github",
        "colab_type": "text"
      },
      "source": [
        "<a href=\"https://colab.research.google.com/github/sreeragh-ar/zero-shot-learning/blob/master/helpers/collab/google_word2vec.ipynb\" target=\"_parent\"><img src=\"https://colab.research.google.com/assets/colab-badge.svg\" alt=\"Open In Colab\"/></a>"
      ]
    },
    {
      "cell_type": "code",
      "metadata": {
        "id": "7xR0kpEMQynj",
        "colab_type": "code",
        "colab": {}
      },
      "source": [
        "!pip install gensim"
      ],
      "execution_count": null,
      "outputs": []
    },
    {
      "cell_type": "code",
      "metadata": {
        "id": "nHPe9FLMSY0U",
        "colab_type": "code",
        "colab": {
          "base_uri": "https://localhost:8080/",
          "height": 122
        },
        "outputId": "376e54c5-4e3e-43e3-a682-98f6a58a0ce7"
      },
      "source": [
        "from google.colab import drive\n",
        "drive.mount('/content/drive')"
      ],
      "execution_count": 1,
      "outputs": [
        {
          "output_type": "stream",
          "text": [
            "Go to this URL in a browser: https://accounts.google.com/o/oauth2/auth?client_id=947318989803-6bn6qk8qdgf4n4g3pfee6491hc0brc4i.apps.googleusercontent.com&redirect_uri=urn%3aietf%3awg%3aoauth%3a2.0%3aoob&response_type=code&scope=email%20https%3a%2f%2fwww.googleapis.com%2fauth%2fdocs.test%20https%3a%2f%2fwww.googleapis.com%2fauth%2fdrive%20https%3a%2f%2fwww.googleapis.com%2fauth%2fdrive.photos.readonly%20https%3a%2f%2fwww.googleapis.com%2fauth%2fpeopleapi.readonly\n",
            "\n",
            "Enter your authorization code:\n",
            "··········\n",
            "Mounted at /content/drive\n"
          ],
          "name": "stdout"
        }
      ]
    },
    {
      "cell_type": "code",
      "metadata": {
        "id": "AOajcfHFS1Jd",
        "colab_type": "code",
        "colab": {
          "base_uri": "https://localhost:8080/",
          "height": 71
        },
        "outputId": "0daaa80a-442a-4870-d658-8eb0396e4bd5"
      },
      "source": [
        "import gensim.models.keyedvectors as word2vec\n",
        "model = word2vec.KeyedVectors.load_word2vec_format('/content/drive/My Drive/Colab Notebooks/GoogleNews-vectors-negative300.bin', binary=True)\n",
        "# print(len(model['zebra']))\n",
        "# print(model['zebra'])"
      ],
      "execution_count": 2,
      "outputs": [
        {
          "output_type": "stream",
          "text": [
            "/usr/local/lib/python3.6/dist-packages/smart_open/smart_open_lib.py:254: UserWarning: This function is deprecated, use smart_open.open instead. See the migration notes for details: https://github.com/RaRe-Technologies/smart_open/blob/master/README.rst#migrating-to-the-new-open-function\n",
            "  'See the migration notes for details: %s' % _MIGRATION_NOTES_URL\n"
          ],
          "name": "stderr"
        }
      ]
    },
    {
      "cell_type": "code",
      "metadata": {
        "id": "TRhY-k-2eEGC",
        "colab_type": "code",
        "colab": {
          "base_uri": "https://localhost:8080/",
          "height": 51
        },
        "outputId": "e8b62903-e392-4388-d98f-9fb43b2ff75e"
      },
      "source": [
        "a = model['Siamese_cat']\n",
        "b = model['longhaired_cat']\n",
        "print(type(a), type(b))\n",
        "print(sum([abs(x-y) for x,y in zip(a, b)]))\n",
        "# print(model['Grizzly_bear'])\n",
        "word2vec_data = []"
      ],
      "execution_count": null,
      "outputs": [
        {
          "output_type": "stream",
          "text": [
            "<class 'numpy.ndarray'> <class 'numpy.ndarray'>\n",
            "41.63604164123535\n"
          ],
          "name": "stdout"
        }
      ]
    },
    {
      "cell_type": "code",
      "metadata": {
        "id": "PiGkYJm83wfH",
        "colab_type": "code",
        "colab": {
          "base_uri": "https://localhost:8080/",
          "height": 85
        },
        "outputId": "94f6ca08-f30c-4dad-e270-a6061d7d2d59"
      },
      "source": [
        "with open('/content/drive/My Drive/Colab Notebooks/awa_classes.txt') as classes_cursor:\n",
        "    for line in classes_cursor:\n",
        "        label_num, label = line.strip().split()\n",
        "        label_obj = {'label': label}\n",
        "        label_key = label.replace('+', '_').capitalize()\n",
        "        label_obj['vector_key'] = label_key\n",
        "        try:\n",
        "          label_obj['vector'] = model[label_key].tolist()\n",
        "          word2vec_data.append(label_obj)\n",
        "        except:\n",
        "          print('Breaking', label, label_key)\n",
        "print(len(word2vec_data))"
      ],
      "execution_count": null,
      "outputs": [
        {
          "output_type": "stream",
          "text": [
            "Breaking persian+cat Persian_cat\n",
            "Breaking blue+whale Blue_whale\n",
            "Breaking spider+monkey Spider_monkey\n",
            "47\n"
          ],
          "name": "stdout"
        }
      ]
    },
    {
      "cell_type": "code",
      "metadata": {
        "id": "STfbJ0MWHKWD",
        "colab_type": "code",
        "colab": {
          "base_uri": "https://localhost:8080/",
          "height": 34
        },
        "outputId": "05c7b38d-3b53-4e0f-8d19-040f4346d9f5"
      },
      "source": [
        "label_obj = {'label': 'persian+cat'}\n",
        "label_obj['vector_key'] = 'longhaired_cat'\n",
        "label_obj['vector'] =  model[label_obj['vector_key']].tolist()\n",
        "word2vec_data.append(label_obj)\n",
        "\n",
        "label_obj = {'label': 'blue+whale'}\n",
        "label_obj['vector_key'] = 'baleen_whale'\n",
        "label_obj['vector'] =  model[label_obj['vector_key']].tolist()\n",
        "word2vec_data.append(label_obj)\n",
        "\n",
        "label_obj = {'label': 'spider+monkey'}\n",
        "label_obj['vector_key'] = 'Spider_Monkey'\n",
        "label_obj['vector'] =  model[label_obj['vector_key']].tolist()\n",
        "word2vec_data.append(label_obj)\n",
        "print(len(word2vec_data))"
      ],
      "execution_count": null,
      "outputs": [
        {
          "output_type": "stream",
          "text": [
            "50\n"
          ],
          "name": "stdout"
        }
      ]
    },
    {
      "cell_type": "code",
      "metadata": {
        "id": "hx6Td2bzS6l7",
        "colab_type": "code",
        "colab": {}
      },
      "source": [
        "import json\n",
        "with open('/content/drive/My Drive/Colab Notebooks/vectors_data.json', 'w') as json_file:\n",
        "  json.dump(word2vec_data, json_file)"
      ],
      "execution_count": null,
      "outputs": []
    }
  ]
}